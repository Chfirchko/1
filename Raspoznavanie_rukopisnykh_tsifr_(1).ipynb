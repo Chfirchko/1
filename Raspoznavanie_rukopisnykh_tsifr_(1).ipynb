{
  "cells": [
    {
      "cell_type": "markdown",
      "metadata": {
        "id": "view-in-github",
        "colab_type": "text"
      },
      "source": [
        "<a href=\"https://colab.research.google.com/github/Chfirchko/1/blob/master/Raspoznavanie_rukopisnykh_tsifr_(1).ipynb\" target=\"_parent\"><img src=\"https://colab.research.google.com/assets/colab-badge.svg\" alt=\"Open In Colab\"/></a>"
      ]
    },
    {
      "cell_type": "markdown",
      "metadata": {
        "id": "vBvuSQtdCyPq"
      },
      "source": [
        "Чтобы запускать и редактировать код, сохраните копию этого ноутбука себе (File->Save a copy in Drive...). Свою копию вы сможете изменять и запускать."
      ]
    },
    {
      "cell_type": "markdown",
      "metadata": {
        "id": "nqZpzs2nBs63"
      },
      "source": [
        "# Распознавание рукописных цифр MNIST"
      ]
    },
    {
      "cell_type": "markdown",
      "metadata": {
        "id": "qLX9aj3eFCPB"
      },
      "source": [
        "## Подготовка данных\n",
        "\n",
        "*Разбор данного раздела:* https://youtu.be/Vd_1LDedB0Y?t=323"
      ]
    },
    {
      "cell_type": "code",
      "execution_count": 144,
      "metadata": {
        "id": "co9Q1s42SciM"
      },
      "outputs": [],
      "source": [
        "from tensorflow.keras.datasets import mnist #Библиотека с базой Mnist\n",
        "from tensorflow.keras.models import Sequential # Подлючаем класс создания модели Sequential\n",
        "from tensorflow.keras.layers import Dense # Подключаем класс Dense - полносвязный слой\n",
        "from tensorflow.keras.optimizers import Adam # Подключаем оптимизатор Adam\n",
        "from tensorflow.keras import utils #Утилиты для to_categorical\n",
        "from tensorflow.keras.preprocessing import image #Для отрисовки изображения\n",
        "import numpy as np # Подключаем библиотеку numpy\n",
        "import pylab # Модуль для построения графиков\n",
        "from mpl_toolkits.mplot3d import Axes3D # Модуль для трехмерной графики\n",
        "import matplotlib.pyplot as plt #Отрисовка изображений\n",
        "from PIL import Image #Отрисовка изображений\n",
        "#Отрисовывать изображения в ноутбуке, а не в консоль или файл\n",
        "%matplotlib inline\n",
        "import random"
      ]
    },
    {
      "cell_type": "code",
      "execution_count": 2,
      "metadata": {
        "id": "xnYVjcnJC4TY",
        "colab": {
          "base_uri": "https://localhost:8080/"
        },
        "outputId": "88a3b075-f29b-497e-c6b3-2c4de61dcc6d"
      },
      "outputs": [
        {
          "output_type": "stream",
          "name": "stdout",
          "text": [
            "Downloading data from https://storage.googleapis.com/tensorflow/tf-keras-datasets/mnist.npz\n",
            "\u001b[1m11490434/11490434\u001b[0m \u001b[32m━━━━━━━━━━━━━━━━━━━━\u001b[0m\u001b[37m\u001b[0m \u001b[1m0s\u001b[0m 0us/step\n"
          ]
        }
      ],
      "source": [
        "(x_train_org, y_train_org), (x_test_org, y_test_org) = mnist.load_data() #Загрузка данных Mnist"
      ]
    },
    {
      "cell_type": "code",
      "execution_count": 3,
      "metadata": {
        "colab": {
          "base_uri": "https://localhost:8080/"
        },
        "id": "ixb5KVPvdHT7",
        "outputId": "45839750-e99a-4934-9f8f-d3c3a86336d4"
      },
      "outputs": [
        {
          "output_type": "execute_result",
          "data": {
            "text/plain": [
              "(60000, 28, 28)"
            ]
          },
          "metadata": {},
          "execution_count": 3
        }
      ],
      "source": [
        "x_train_org.shape"
      ]
    },
    {
      "cell_type": "code",
      "source": [
        "y_train_org"
      ],
      "metadata": {
        "colab": {
          "base_uri": "https://localhost:8080/"
        },
        "id": "yxJnYHmM1RA5",
        "outputId": "0436741c-d665-4af7-ed72-9809fe5dda15"
      },
      "execution_count": 4,
      "outputs": [
        {
          "output_type": "execute_result",
          "data": {
            "text/plain": [
              "array([5, 0, 4, ..., 5, 6, 8], dtype=uint8)"
            ]
          },
          "metadata": {},
          "execution_count": 4
        }
      ]
    },
    {
      "cell_type": "code",
      "execution_count": 5,
      "metadata": {
        "colab": {
          "base_uri": "https://localhost:8080/",
          "height": 430
        },
        "id": "ts-z0Oh_EJJ_",
        "outputId": "08f1f0aa-cbfd-4526-e9c2-38e3b5533871"
      },
      "outputs": [
        {
          "output_type": "display_data",
          "data": {
            "text/plain": [
              "<Figure size 640x480 with 1 Axes>"
            ],
            "image/png": "[encoded data removed]"
          },
          "metadata": {}
        }
      ],
      "source": [
        "n = 37 #Номер картинки\n",
        "plt.imshow(Image.fromarray(x_train_org[n]).convert('RGB')) #Отрисовка картинки\n",
        "plt.show() # Вывод картинки"
      ]
    },
    {
      "cell_type": "code",
      "source": [
        "y_train_org[n]"
      ],
      "metadata": {
        "colab": {
          "base_uri": "https://localhost:8080/"
        },
        "id": "ycXHJZ2A1i6F",
        "outputId": "6f8ffbb1-f3fe-4bea-db8e-4182b1aad93a"
      },
      "execution_count": 6,
      "outputs": [
        {
          "output_type": "execute_result",
          "data": {
            "text/plain": [
              "np.uint8(0)"
            ]
          },
          "metadata": {},
          "execution_count": 6
        }
      ]
    },
    {
      "cell_type": "code",
      "execution_count": 7,
      "metadata": {
        "colab": {
          "base_uri": "https://localhost:8080/"
        },
        "id": "3D8FrTQMx8cs",
        "outputId": "c351e13b-2238-4684-dca9-95e1aa2dddff"
      },
      "outputs": [
        {
          "output_type": "execute_result",
          "data": {
            "text/plain": [
              "np.uint8(0)"
            ]
          },
          "metadata": {},
          "execution_count": 7
        }
      ],
      "source": [
        "y_train_org[n]"
      ]
    },
    {
      "cell_type": "code",
      "execution_count": 8,
      "metadata": {
        "colab": {
          "base_uri": "https://localhost:8080/"
        },
        "id": "5ZD6VMrp08_D",
        "outputId": "66691f3c-47a7-4eb0-ff8d-7f313d58a383"
      },
      "outputs": [
        {
          "output_type": "execute_result",
          "data": {
            "text/plain": [
              "numpy.ndarray"
            ]
          },
          "metadata": {},
          "execution_count": 8
        }
      ],
      "source": [
        "type(y_train_org)"
      ]
    },
    {
      "cell_type": "code",
      "execution_count": 41,
      "metadata": {
        "colab": {
          "base_uri": "https://localhost:8080/",
          "height": 231
        },
        "id": "StxOw0C6EQQd",
        "outputId": "9dc68ca5-45e5-452a-8a87-2bb168bbfcbf"
      },
      "outputs": [
        {
          "output_type": "error",
          "ename": "ValueError",
          "evalue": "cannot reshape array of size 47040000 into shape (5000,784)",
          "traceback": [
            "\u001b[0;31m---------------------------------------------------------------------------\u001b[0m",
            "\u001b[0;31mValueError\u001b[0m                                Traceback (most recent call last)",
            "\u001b[0;32m<ipython-input-41-cdb9d6b2ed8c>\u001b[0m in \u001b[0;36m<cell line: 0>\u001b[0;34m()\u001b[0m\n\u001b[1;32m      1\u001b[0m \u001b[0;31m#Меняем формат входных картинок с 28х28 на 784х1\u001b[0m\u001b[0;34m\u001b[0m\u001b[0;34m\u001b[0m\u001b[0m\n\u001b[0;32m----> 2\u001b[0;31m \u001b[0mx_train\u001b[0m \u001b[0;34m=\u001b[0m \u001b[0mx_train_org\u001b[0m\u001b[0;34m.\u001b[0m\u001b[0mreshape\u001b[0m\u001b[0;34m(\u001b[0m\u001b[0;36m5000\u001b[0m\u001b[0;34m,\u001b[0m \u001b[0;36m784\u001b[0m\u001b[0;34m)\u001b[0m\u001b[0;34m\u001b[0m\u001b[0;34m\u001b[0m\u001b[0m\n\u001b[0m\u001b[1;32m      3\u001b[0m \u001b[0mx_test\u001b[0m \u001b[0;34m=\u001b[0m \u001b[0mx_test_org\u001b[0m\u001b[0;34m.\u001b[0m\u001b[0mreshape\u001b[0m\u001b[0;34m(\u001b[0m\u001b[0;36m1000\u001b[0m\u001b[0;34m,\u001b[0m \u001b[0;36m784\u001b[0m\u001b[0;34m)\u001b[0m\u001b[0;34m\u001b[0m\u001b[0;34m\u001b[0m\u001b[0m\n\u001b[1;32m      4\u001b[0m \u001b[0mprint\u001b[0m\u001b[0;34m(\u001b[0m\u001b[0mx_train_org\u001b[0m\u001b[0;34m.\u001b[0m\u001b[0mshape\u001b[0m\u001b[0;34m)\u001b[0m\u001b[0;34m\u001b[0m\u001b[0;34m\u001b[0m\u001b[0m\n\u001b[1;32m      5\u001b[0m \u001b[0mprint\u001b[0m\u001b[0;34m(\u001b[0m\u001b[0mx_train\u001b[0m\u001b[0;34m.\u001b[0m\u001b[0mshape\u001b[0m\u001b[0;34m)\u001b[0m\u001b[0;34m\u001b[0m\u001b[0;34m\u001b[0m\u001b[0m\n",
            "\u001b[0;31mValueError\u001b[0m: cannot reshape array of size 47040000 into shape (5000,784)"
          ]
        }
      ],
      "source": [
        "#Меняем формат входных картинок с 28х28 на 784х1\n",
        "x_train = x_train_org.reshape(60000, 784)\n",
        "x_test = x_test_org.reshape(10000, 784)\n",
        "print(x_train_org.shape)\n",
        "print(x_train.shape)"
      ]
    },
    {
      "cell_type": "code",
      "execution_count": 10,
      "metadata": {
        "id": "R5cW-u8eEXBN"
      },
      "outputs": [],
      "source": [
        "#Нормализуем входные картинки\n",
        "x_train = x_train.astype('float32') # преобразовываем x_train в тип float (цифры с плавающей точкой)\n",
        "x_train = x_train / 255 # делим на 255, чтобы диапазон был от 0 до 1\n",
        "x_test = x_test.astype('float32') # преобразовываем x_test в тип float (цифры с плавающей точкой)\n",
        "x_test = x_test / 255 # делим на 255, чтобы диапазон был от 0 до 1"
      ]
    },
    {
      "cell_type": "code",
      "execution_count": 11,
      "metadata": {
        "colab": {
          "base_uri": "https://localhost:8080/"
        },
        "id": "BHfS_QDay14q",
        "outputId": "6ab207ac-0a45-4b1d-a648-5889991d2948"
      },
      "outputs": [
        {
          "output_type": "execute_result",
          "data": {
            "text/plain": [
              "np.uint8(5)"
            ]
          },
          "metadata": {},
          "execution_count": 11
        }
      ],
      "source": [
        "y_train_org[0]"
      ]
    },
    {
      "cell_type": "code",
      "execution_count": 12,
      "metadata": {
        "id": "zrxFxFA5EsVU"
      },
      "outputs": [],
      "source": [
        "# Преобразуем ответы в формат one_hot_encoding\n",
        "y_train = utils.to_categorical(y_train_org, 10)\n",
        "y_test = utils.to_categorical(y_test_org, 10)"
      ]
    },
    {
      "cell_type": "code",
      "execution_count": 13,
      "metadata": {
        "colab": {
          "base_uri": "https://localhost:8080/"
        },
        "id": "7AiDf79FE2Xk",
        "outputId": "57b79931-c6d7-45c7-fda6-70bbaf0f9fa2"
      },
      "outputs": [
        {
          "output_type": "stream",
          "name": "stdout",
          "text": [
            "(60000, 10)\n"
          ]
        }
      ],
      "source": [
        "#Выводим размер y_train\n",
        "#60 тысяч примеров, каждый размера 10 (так как 10 классов)\n",
        "print(y_train.shape)"
      ]
    },
    {
      "cell_type": "code",
      "execution_count": 14,
      "metadata": {
        "colab": {
          "base_uri": "https://localhost:8080/"
        },
        "id": "i7MZ1HbBE7me",
        "outputId": "17522bba-c934-4e32-81c2-df356f0b83a2"
      },
      "outputs": [
        {
          "output_type": "stream",
          "name": "stdout",
          "text": [
            "[0. 0. 0. 0. 1. 0. 0. 0. 0. 0.]\n"
          ]
        }
      ],
      "source": [
        "print(y_train[9]) #Выводим пример одного выходного вектора"
      ]
    },
    {
      "cell_type": "code",
      "execution_count": 15,
      "metadata": {
        "colab": {
          "base_uri": "https://localhost:8080/"
        },
        "id": "R9_js3mi08_K",
        "outputId": "6c3fc0e3-9357-40d5-b4f1-1573f8ba6f99"
      },
      "outputs": [
        {
          "output_type": "execute_result",
          "data": {
            "text/plain": [
              "np.uint8(4)"
            ]
          },
          "metadata": {},
          "execution_count": 15
        }
      ],
      "source": [
        "y_train_org[9]"
      ]
    },
    {
      "cell_type": "code",
      "execution_count": 16,
      "metadata": {
        "colab": {
          "base_uri": "https://localhost:8080/"
        },
        "id": "LyIjTL5BNxus",
        "outputId": "a2c4906a-e90f-4b74-dd55-720c050f5be4"
      },
      "outputs": [
        {
          "output_type": "stream",
          "name": "stdout",
          "text": [
            "(60000,)\n"
          ]
        }
      ],
      "source": [
        "print(y_train_org.shape)"
      ]
    },
    {
      "cell_type": "code",
      "execution_count": 17,
      "metadata": {
        "colab": {
          "base_uri": "https://localhost:8080/"
        },
        "id": "L6kqzxeiN0IK",
        "outputId": "d5cb56c5-ddf1-407a-c7db-7b1a0a67b53e"
      },
      "outputs": [
        {
          "output_type": "stream",
          "name": "stdout",
          "text": [
            "6\n"
          ]
        }
      ],
      "source": [
        "print(y_train_org[36])"
      ]
    },
    {
      "cell_type": "markdown",
      "metadata": {
        "id": "TR6ua7t7FEzn"
      },
      "source": [
        "## Создание нейронной сети\n",
        "\n",
        "*Разбор данного раздела:* https://youtu.be/Vd_1LDedB0Y?t=1022"
      ]
    },
    {
      "cell_type": "code",
      "execution_count": 90,
      "metadata": {
        "id": "odi8yVyxE-w5"
      },
      "outputs": [],
      "source": [
        "model = Sequential() # Создаём сеть прямого распространения\n",
        "model.add(Dense(800, input_dim=784, activation=\"relu\")) # Добавляем полносвязный слой на 800 нейронов с relu-активацией\n",
        "model.add(Dense(5000, activation=\"linear\")) # Добавляем полносвязный слой на 400 нейронов с relu-активацией\n",
        "model.add(Dense(5000, activation=\"linear\")) # Добавляем полносвязный слой на 400 нейронов с relu-активацией\n",
        "\n",
        "model.add(Dense(10, activation=\"softmax\")) # Добавляем полносвязный слой на 10 нейронов с softmax-активацией"
      ]
    },
    {
      "cell_type": "code",
      "source": [],
      "metadata": {
        "id": "_P1p08m9rrs6"
      },
      "execution_count": 51,
      "outputs": []
    },
    {
      "cell_type": "code",
      "execution_count": 91,
      "metadata": {
        "colab": {
          "base_uri": "https://localhost:8080/",
          "height": 297
        },
        "id": "6EMUkxTqFkc1",
        "outputId": "b8a4bb07-830a-4770-d1a0-dd7fd6c66d3c"
      },
      "outputs": [
        {
          "output_type": "display_data",
          "data": {
            "text/plain": [
              "\u001b[1mModel: \"sequential_20\"\u001b[0m\n"
            ],
            "text/html": [
              "<pre style=\"white-space:pre;overflow-x:auto;line-height:normal;font-family:Menlo,'DejaVu Sans Mono',consolas,'Courier New',monospace\"><span style=\"font-weight: bold\">Model: \"sequential_20\"</span>\n",
              "</pre>\n"
            ]
          },
          "metadata": {}
        },
        {
          "output_type": "display_data",
          "data": {
            "text/plain": [
              "┏━━━━━━━━━━━━━━━━━━━━━━━━━━━━━━━━━━━━━━┳━━━━━━━━━━━━━━━━━━━━━━━━━━━━━┳━━━━━━━━━━━━━━━━━┓\n",
              "┃\u001b[1m \u001b[0m\u001b[1mLayer (type)                        \u001b[0m\u001b[1m \u001b[0m┃\u001b[1m \u001b[0m\u001b[1mOutput Shape               \u001b[0m\u001b[1m \u001b[0m┃\u001b[1m \u001b[0m\u001b[1m        Param #\u001b[0m\u001b[1m \u001b[0m┃\n",
              "┡━━━━━━━━━━━━━━━━━━━━━━━━━━━━━━━━━━━━━━╇━━━━━━━━━━━━━━━━━━━━━━━━━━━━━╇━━━━━━━━━━━━━━━━━┩\n",
              "│ dense_62 (\u001b[38;5;33mDense\u001b[0m)                     │ (\u001b[38;5;45mNone\u001b[0m, \u001b[38;5;34m800\u001b[0m)                 │         \u001b[38;5;34m628,000\u001b[0m │\n",
              "├──────────────────────────────────────┼─────────────────────────────┼─────────────────┤\n",
              "│ dense_63 (\u001b[38;5;33mDense\u001b[0m)                     │ (\u001b[38;5;45mNone\u001b[0m, \u001b[38;5;34m5000\u001b[0m)                │       \u001b[38;5;34m4,005,000\u001b[0m │\n",
              "├──────────────────────────────────────┼─────────────────────────────┼─────────────────┤\n",
              "│ dense_64 (\u001b[38;5;33mDense\u001b[0m)                     │ (\u001b[38;5;45mNone\u001b[0m, \u001b[38;5;34m5000\u001b[0m)                │      \u001b[38;5;34m25,005,000\u001b[0m │\n",
              "├──────────────────────────────────────┼─────────────────────────────┼─────────────────┤\n",
              "│ dense_65 (\u001b[38;5;33mDense\u001b[0m)                     │ (\u001b[38;5;45mNone\u001b[0m, \u001b[38;5;34m10\u001b[0m)                  │          \u001b[38;5;34m50,010\u001b[0m │\n",
              "└──────────────────────────────────────┴─────────────────────────────┴─────────────────┘\n"
            ],
            "text/html": [
              "<pre style=\"white-space:pre;overflow-x:auto;line-height:normal;font-family:Menlo,'DejaVu Sans Mono',consolas,'Courier New',monospace\">┏━━━━━━━━━━━━━━━━━━━━━━━━━━━━━━━━━━━━━━┳━━━━━━━━━━━━━━━━━━━━━━━━━━━━━┳━━━━━━━━━━━━━━━━━┓\n",
              "┃<span style=\"font-weight: bold\"> Layer (type)                         </span>┃<span style=\"font-weight: bold\"> Output Shape                </span>┃<span style=\"font-weight: bold\">         Param # </span>┃\n",
              "┡━━━━━━━━━━━━━━━━━━━━━━━━━━━━━━━━━━━━━━╇━━━━━━━━━━━━━━━━━━━━━━━━━━━━━╇━━━━━━━━━━━━━━━━━┩\n",
              "│ dense_62 (<span style=\"color: #0087ff; text-decoration-color: #0087ff\">Dense</span>)                     │ (<span style=\"color: #00d7ff; text-decoration-color: #00d7ff\">None</span>, <span style=\"color: #00af00; text-decoration-color: #00af00\">800</span>)                 │         <span style=\"color: #00af00; text-decoration-color: #00af00\">628,000</span> │\n",
              "├──────────────────────────────────────┼─────────────────────────────┼─────────────────┤\n",
              "│ dense_63 (<span style=\"color: #0087ff; text-decoration-color: #0087ff\">Dense</span>)                     │ (<span style=\"color: #00d7ff; text-decoration-color: #00d7ff\">None</span>, <span style=\"color: #00af00; text-decoration-color: #00af00\">5000</span>)                │       <span style=\"color: #00af00; text-decoration-color: #00af00\">4,005,000</span> │\n",
              "├──────────────────────────────────────┼─────────────────────────────┼─────────────────┤\n",
              "│ dense_64 (<span style=\"color: #0087ff; text-decoration-color: #0087ff\">Dense</span>)                     │ (<span style=\"color: #00d7ff; text-decoration-color: #00d7ff\">None</span>, <span style=\"color: #00af00; text-decoration-color: #00af00\">5000</span>)                │      <span style=\"color: #00af00; text-decoration-color: #00af00\">25,005,000</span> │\n",
              "├──────────────────────────────────────┼─────────────────────────────┼─────────────────┤\n",
              "│ dense_65 (<span style=\"color: #0087ff; text-decoration-color: #0087ff\">Dense</span>)                     │ (<span style=\"color: #00d7ff; text-decoration-color: #00d7ff\">None</span>, <span style=\"color: #00af00; text-decoration-color: #00af00\">10</span>)                  │          <span style=\"color: #00af00; text-decoration-color: #00af00\">50,010</span> │\n",
              "└──────────────────────────────────────┴─────────────────────────────┴─────────────────┘\n",
              "</pre>\n"
            ]
          },
          "metadata": {}
        },
        {
          "output_type": "display_data",
          "data": {
            "text/plain": [
              "\u001b[1m Total params: \u001b[0m\u001b[38;5;34m29,688,010\u001b[0m (113.25 MB)\n"
            ],
            "text/html": [
              "<pre style=\"white-space:pre;overflow-x:auto;line-height:normal;font-family:Menlo,'DejaVu Sans Mono',consolas,'Courier New',monospace\"><span style=\"font-weight: bold\"> Total params: </span><span style=\"color: #00af00; text-decoration-color: #00af00\">29,688,010</span> (113.25 MB)\n",
              "</pre>\n"
            ]
          },
          "metadata": {}
        },
        {
          "output_type": "display_data",
          "data": {
            "text/plain": [
              "\u001b[1m Trainable params: \u001b[0m\u001b[38;5;34m29,688,010\u001b[0m (113.25 MB)\n"
            ],
            "text/html": [
              "<pre style=\"white-space:pre;overflow-x:auto;line-height:normal;font-family:Menlo,'DejaVu Sans Mono',consolas,'Courier New',monospace\"><span style=\"font-weight: bold\"> Trainable params: </span><span style=\"color: #00af00; text-decoration-color: #00af00\">29,688,010</span> (113.25 MB)\n",
              "</pre>\n"
            ]
          },
          "metadata": {}
        },
        {
          "output_type": "display_data",
          "data": {
            "text/plain": [
              "\u001b[1m Non-trainable params: \u001b[0m\u001b[38;5;34m0\u001b[0m (0.00 B)\n"
            ],
            "text/html": [
              "<pre style=\"white-space:pre;overflow-x:auto;line-height:normal;font-family:Menlo,'DejaVu Sans Mono',consolas,'Courier New',monospace\"><span style=\"font-weight: bold\"> Non-trainable params: </span><span style=\"color: #00af00; text-decoration-color: #00af00\">0</span> (0.00 B)\n",
              "</pre>\n"
            ]
          },
          "metadata": {}
        },
        {
          "output_type": "stream",
          "name": "stdout",
          "text": [
            "None\n"
          ]
        }
      ],
      "source": [
        "model.compile(optimizer=Adam(), loss='categorical_crossentropy', metrics=[\"accuracy\"]) # Компилируем модель\n",
        "print(model.summary()) #Вывод структуры модели"
      ]
    },
    {
      "cell_type": "markdown",
      "metadata": {
        "id": "H4WWjjxnF3qn"
      },
      "source": [
        "## Обучение нейронной сети\n",
        "\n",
        "*Разбор данного раздела:* https://youtu.be/Vd_1LDedB0Y?t=1456"
      ]
    },
    {
      "cell_type": "code",
      "execution_count": 89,
      "metadata": {
        "colab": {
          "base_uri": "https://localhost:8080/"
        },
        "id": "tzArU3n3F6Lo",
        "outputId": "e96aadeb-839d-40e6-a4a3-0fb3e25a872b"
      },
      "outputs": [
        {
          "output_type": "stream",
          "name": "stdout",
          "text": [
            "Epoch 1/5\n",
            "\u001b[1m1/1\u001b[0m \u001b[32m━━━━━━━━━━━━━━━━━━━━\u001b[0m\u001b[37m\u001b[0m \u001b[1m5s\u001b[0m 5s/step - accuracy: 0.0790 - loss: 2.3310\n",
            "Epoch 2/5\n",
            "\u001b[1m1/1\u001b[0m \u001b[32m━━━━━━━━━━━━━━━━━━━━\u001b[0m\u001b[37m\u001b[0m \u001b[1m2s\u001b[0m 2s/step - accuracy: 0.5250 - loss: 2.0187\n",
            "Epoch 3/5\n",
            "\u001b[1m1/1\u001b[0m \u001b[32m━━━━━━━━━━━━━━━━━━━━\u001b[0m\u001b[37m\u001b[0m \u001b[1m0s\u001b[0m 137ms/step - accuracy: 0.6230 - loss: 3.7075\n",
            "Epoch 4/5\n",
            "\u001b[1m1/1\u001b[0m \u001b[32m━━━━━━━━━━━━━━━━━━━━\u001b[0m\u001b[37m\u001b[0m \u001b[1m0s\u001b[0m 136ms/step - accuracy: 0.6600 - loss: 2.7194\n",
            "Epoch 5/5\n",
            "\u001b[1m1/1\u001b[0m \u001b[32m━━━━━━━━━━━━━━━━━━━━\u001b[0m\u001b[37m\u001b[0m \u001b[1m0s\u001b[0m 87ms/step - accuracy: 0.7740 - loss: 1.0365\n"
          ]
        },
        {
          "output_type": "execute_result",
          "data": {
            "text/plain": [
              "<keras.src.callbacks.history.History at 0x7b295410db90>"
            ]
          },
          "metadata": {},
          "execution_count": 89
        }
      ],
      "source": [
        "#fit - функция обучения нейронки\n",
        "#x_train, y_train - обучающая выборка, входные и выходные данные\n",
        "#batch_size - размер батча, количество примеров, которое обрабатывает нейронка перед одним изменением весов\n",
        "#epochs - количество эпох, когда нейронка обучается на всех примерах выборки\n",
        "#verbose - 0 - не визуализировать ход обучения, 1 - визуализировать\n",
        "model.fit(x_train[:1000], y_train[:1000], batch_size=60000, epochs=5, verbose=1)"
      ]
    },
    {
      "cell_type": "code",
      "execution_count": 148,
      "metadata": {
        "id": "nmxH0W_QSOIX"
      },
      "outputs": [],
      "source": [
        "model.save_weights('model.weights.h5')\n",
        "model.load_weights('model.weights.h5')"
      ]
    },
    {
      "cell_type": "markdown",
      "metadata": {
        "id": "ExUOoWQOGvw6"
      },
      "source": [
        "## Распознавание рукописных цифр\n",
        "\n",
        "*Разбор данного раздела:* https://youtu.be/Vd_1LDedB0Y?t=1870"
      ]
    },
    {
      "cell_type": "code",
      "execution_count": 146,
      "metadata": {
        "colab": {
          "base_uri": "https://localhost:8080/",
          "height": 430
        },
        "id": "ydE7Bb-5G82-",
        "outputId": "f4609439-9181-4530-a52c-be961a0d0439"
      },
      "outputs": [
        {
          "output_type": "display_data",
          "data": {
            "text/plain": [
              "<Figure size 640x480 with 1 Axes>"
            ],
            "image/png": "[encoded data removed]"
          },
          "metadata": {}
        }
      ],
      "source": [
        "n_rec = random.randint(1, 50) #Номер тестовой цифры, которую будем распознавать\n",
        "plt.imshow(Image.fromarray(x_test_org[n_rec]).convert('RGBA')) # Нарисуем картинку из тестового набора под номером n_rec\n",
        "plt.show()"
      ]
    },
    {
      "cell_type": "code",
      "execution_count": 147,
      "metadata": {
        "colab": {
          "base_uri": "https://localhost:8080/"
        },
        "id": "_85gvY6uHABc",
        "outputId": "a532fee1-5d9b-40a1-a23b-4ae05fdc563b"
      },
      "outputs": [
        {
          "output_type": "stream",
          "name": "stdout",
          "text": [
            "(784,)\n",
            "(1, 784)\n",
            "\u001b[1m1/1\u001b[0m \u001b[32m━━━━━━━━━━━━━━━━━━━━\u001b[0m\u001b[37m\u001b[0m \u001b[1m0s\u001b[0m 337ms/step\n",
            "[[1.0415065e-06 4.4892709e-12 9.3608413e-11 4.0131129e-15 3.8425997e-06\n",
            "  2.2900144e-09 9.9999511e-01 1.9333788e-17 2.5442575e-11 7.0138902e-14]]\n",
            "6\n"
          ]
        }
      ],
      "source": [
        "#Выбираем нужную картинку из тестовой выборки\n",
        "x = x_test[n_rec]\n",
        "print(x.shape)\n",
        "#Добавляем одну размерность в конце, чтобы нейронка могла распознать пример\n",
        "#Потому что нейронка принимает именно массив примеров для распознавания\n",
        "#Мы делаем массив из одного примера\n",
        "x = np.expand_dims(x, axis=0)\n",
        "print(x.shape)\n",
        "prediction = model.predict(x) #Распознаём наш пример\n",
        "print(prediction) #Выводим результат, это 10 цифр\n",
        "sum(prediction[0])\n",
        "pred = np.argmax(prediction) # Получаем индекс самого большого элемента (это итоговая цифра, которую распознала сеть)\n",
        "print(pred)"
      ]
    },
    {
      "cell_type": "code",
      "execution_count": 124,
      "metadata": {
        "colab": {
          "base_uri": "https://localhost:8080/"
        },
        "id": "fGF9xUCRHSOE",
        "outputId": "17ebfdbc-861e-4ce1-fe9a-c4ee5a7e3b08"
      },
      "outputs": [
        {
          "output_type": "stream",
          "name": "stdout",
          "text": [
            "[[0.11338322 0.09966772 0.114246   0.11110023 0.08239286 0.08771877\n",
            "  0.11038285 0.08750863 0.09422775 0.09937202]]\n"
          ]
        }
      ],
      "source": [
        "print(prediction) #Выводим результат, это 10 цифр"
      ]
    },
    {
      "cell_type": "code",
      "execution_count": 125,
      "metadata": {
        "colab": {
          "base_uri": "https://localhost:8080/"
        },
        "id": "LKR0oFGAYyFi",
        "outputId": "93415854-d59d-4bae-928a-b20ece34c3ec"
      },
      "outputs": [
        {
          "output_type": "execute_result",
          "data": {
            "text/plain": [
              "np.float32(1.0)"
            ]
          },
          "metadata": {},
          "execution_count": 125
        }
      ],
      "source": [
        "sum(prediction[0])"
      ]
    },
    {
      "cell_type": "code",
      "execution_count": 126,
      "metadata": {
        "colab": {
          "base_uri": "https://localhost:8080/"
        },
        "id": "9pg67PW9HV4A",
        "outputId": "b02138b1-3d5c-4c91-fc70-97a99389efcc"
      },
      "outputs": [
        {
          "output_type": "stream",
          "name": "stdout",
          "text": [
            "2\n"
          ]
        }
      ],
      "source": [
        "pred = np.argmax(prediction) # Получаем индекс самого большого элемента (это итоговая цифра, которую распознала сеть)\n",
        "print(pred)"
      ]
    },
    {
      "cell_type": "code",
      "execution_count": 119,
      "metadata": {
        "colab": {
          "base_uri": "https://localhost:8080/"
        },
        "id": "72Rbs1E9HeRZ",
        "outputId": "e6f6d288-5d93-4057-fdf2-e03debc3b654"
      },
      "outputs": [
        {
          "output_type": "stream",
          "name": "stdout",
          "text": [
            "6\n"
          ]
        }
      ],
      "source": [
        "print(y_test_org[n_rec]) #выводим правильный ответ, для сравнения"
      ]
    },
    {
      "cell_type": "markdown",
      "metadata": {
        "id": "Pa2_uq889QCz"
      },
      "source": [
        "# Глоссарий"
      ]
    },
    {
      "cell_type": "markdown",
      "metadata": {
        "id": "uGF-KxJX9Uyx"
      },
      "source": [
        "**Функции активации**\n",
        "\n",
        "https://keras.io/activations/ - документация\n",
        "\n",
        "https://ru-keras.com/activation-function/ - русскоязычная документация\n",
        "\n",
        "*   sigmoid - на выходе значения от 0 до 1\n",
        "*   relu - на выходе значения от 0 до +∞\n",
        "*   tanh - на выходе значения от -1 до +1\n",
        "*   softmax - сумма значения выходов всех нейронов равна 1\n",
        "\n",
        "**Функции ошибок**\n",
        "\n",
        "https://keras.io/losses/ - документация\n",
        "\n",
        "https://ru-keras.com/loss/ - русскоязычная документация\n",
        "\n",
        "\n",
        "*   mse - среднеквадратичное отклонение\n",
        "*   mae - среднее абсолютное значение\n",
        "*   binary_crossentropy - бинарная кроссэнтропия\n",
        "*   categorical_crossentropy - категориальная кроссэнтропия\n",
        "\n",
        "**Оптимизаторы**\n",
        "\n",
        "https://keras.io/optimizers/ - документация\n",
        "\n",
        "https://ru-keras.com/optimizer/ - русскоязычная документация\n",
        "\n",
        "\n",
        "\n",
        "*   Adam\n",
        "*   RMSProp\n",
        "*   Adadelta\n",
        "\n",
        "**Градиентный спуск** - процесс поиска минимума функции ошибки\n",
        "\n",
        "**MNIST** - набор изображений рукописных цифр 28х28 пикселей\n",
        "\n",
        "**Способы обучения сети:**\n",
        "\n",
        "*   .train_on_batch - один шаг обучения на фиксированном наборе данных\n",
        "*   .fit - итерационное обучение сети с возможностью указания количества итераций (epochs) и размера пакета с обучающими данными (batch_size)\n",
        "\n",
        "**Загрузка изображения**\n",
        "\n",
        "image.load_img(path, target_size=(28, 28), color_mode = ‘grayscale’)\n",
        "\n",
        "\n",
        "\n"
      ]
    },
    {
      "cell_type": "code",
      "source": [
        "from tensorflow.keras.models import Sequential\n",
        "from tensorflow.keras.layers import Dense, Dropout, BatchNormalization\n",
        "\n",
        "model = Sequential()\n",
        "\n",
        "# Слой 1: Dense (1/4)\n",
        "model.add(Dense(800, input_dim=784, activation='relu'))\n",
        "# Слой 2: BatchNorm (1/3)\n",
        "model.add(BatchNormalization())\n",
        "# Слой 3: Dropout (1/3)\n",
        "model.add(Dropout(0.3))\n",
        "\n",
        "# Слой 4: Dense (2/4)\n",
        "model.add(Dense(5000, activation='linear'))\n",
        "# Слой 5: BatchNorm (2/3)\n",
        "model.add(BatchNormalization())\n",
        "# Слой 6: Dropout (2/3)\n",
        "model.add(Dropout(0.3))\n",
        "\n",
        "# Слой 7: Dense (3/4)\n",
        "model.add(Dense(5000, activation='linear'))\n",
        "# Слой 8: BatchNorm (3/3)\n",
        "model.add(BatchNormalization())\n",
        "# Слой 9: Dropout (3/3)\n",
        "model.add(Dropout(0.3))\n",
        "\n",
        "# Слой 10: Dense (4/4) - выходной\n",
        "model.add(Dense(10, activation='softmax'))\n",
        "\n",
        "# Проверка количества слоев\n",
        "print(f\"Всего слоев: {len(model.layers)}\")  # Выведет 10\n",
        "\n",
        "# Компиляция модели\n",
        "model.compile(optimizer='adam',\n",
        "              loss='categorical_crossentropy',\n",
        "              metrics=['accuracy'])\n",
        "\n",
        "# Обучение (с исправленным batch_size)\n",
        "model.fit(x_train[:1000], y_train[:1000],\n",
        "          batch_size=32,  # Исправлено: batch_size=60000 слишком большой для 1000 примеров\n",
        "          epochs=5,\n",
        "          verbose=1)\n",
        "model.save_weights('model.weights.h5')\n",
        "model.load_weights('model.weights.h5')"
      ],
      "metadata": {
        "id": "zYI0uuhf_lJb",
        "outputId": "1313bede-6c65-49bb-98a9-5b3be6bfe52b",
        "colab": {
          "base_uri": "https://localhost:8080/"
        }
      },
      "execution_count": 150,
      "outputs": [
        {
          "output_type": "stream",
          "name": "stdout",
          "text": [
            "Всего слоев: 10\n",
            "Epoch 1/5\n",
            "\u001b[1m32/32\u001b[0m \u001b[32m━━━━━━━━━━━━━━━━━━━━\u001b[0m\u001b[37m\u001b[0m \u001b[1m7s\u001b[0m 70ms/step - accuracy: 0.5868 - loss: 5.2710\n",
            "Epoch 2/5\n",
            "\u001b[1m32/32\u001b[0m \u001b[32m━━━━━━━━━━━━━━━━━━━━\u001b[0m\u001b[37m\u001b[0m \u001b[1m0s\u001b[0m 11ms/step - accuracy: 0.8430 - loss: 2.0784\n",
            "Epoch 3/5\n",
            "\u001b[1m32/32\u001b[0m \u001b[32m━━━━━━━━━━━━━━━━━━━━\u001b[0m\u001b[37m\u001b[0m \u001b[1m0s\u001b[0m 10ms/step - accuracy: 0.9063 - loss: 0.7308\n",
            "Epoch 4/5\n",
            "\u001b[1m32/32\u001b[0m \u001b[32m━━━━━━━━━━━━━━━━━━━━\u001b[0m\u001b[37m\u001b[0m \u001b[1m1s\u001b[0m 10ms/step - accuracy: 0.9445 - loss: 0.3389\n",
            "Epoch 5/5\n",
            "\u001b[1m32/32\u001b[0m \u001b[32m━━━━━━━━━━━━━━━━━━━━\u001b[0m\u001b[37m\u001b[0m \u001b[1m1s\u001b[0m 10ms/step - accuracy: 0.9318 - loss: 0.4575\n"
          ]
        }
      ]
    },
    {
      "cell_type": "code",
      "source": [
        "n_rec = random.randint(1, 100) #Номер тестовой цифры, которую будем распознавать\n",
        "plt.imshow(Image.fromarray(x_test_org[n_rec]).convert('RGBA')) # Нарисуем картинку из тестового набора под номером n_rec\n",
        "plt.show()"
      ],
      "metadata": {
        "id": "cGWYUpcp_2vP",
        "outputId": "b67d31fe-8d9f-4909-f942-70cea66d2a38",
        "colab": {
          "base_uri": "https://localhost:8080/",
          "height": 430
        }
      },
      "execution_count": 161,
      "outputs": [
        {
          "output_type": "display_data",
          "data": {
            "text/plain": [
              "<Figure size 640x480 with 1 Axes>"
            ],
            "image/png": "[encoded data removed]"
          },
          "metadata": {}
        }
      ]
    },
    {
      "cell_type": "code",
      "source": [
        "#Выбираем нужную картинку из тестовой выборки\n",
        "x = x_test[n_rec]\n",
        "print(x.shape)\n",
        "#Добавляем одну размерность в конце, чтобы нейронка могла распознать пример\n",
        "#Потому что нейронка принимает именно массив примеров для распознавания\n",
        "#Мы делаем массив из одного примера\n",
        "x = np.expand_dims(x, axis=0)\n",
        "print(x.shape)\n",
        "prediction = model.predict(x) #Распознаём наш пример\n",
        "print(prediction) #Выводим результат, это 10 цифр\n",
        "sum(prediction[0])\n",
        "pred = np.argmax(prediction) # Получаем индекс самого большого элемента (это итоговая цифра, которую распознала сеть)\n",
        "print(pred)"
      ],
      "metadata": {
        "id": "GAGAoOSA_x5q",
        "outputId": "093a0023-31cd-44e3-f692-ac29d7389100",
        "colab": {
          "base_uri": "https://localhost:8080/"
        }
      },
      "execution_count": 162,
      "outputs": [
        {
          "output_type": "stream",
          "name": "stdout",
          "text": [
            "(784,)\n",
            "(1, 784)\n",
            "\u001b[1m1/1\u001b[0m \u001b[32m━━━━━━━━━━━━━━━━━━━━\u001b[0m\u001b[37m\u001b[0m \u001b[1m0s\u001b[0m 29ms/step\n",
            "[[1.3300658e-10 6.7686112e-10 3.8688319e-10 1.3320778e-06 1.0314804e-08\n",
            "  1.0397762e-09 2.3649863e-11 9.9936026e-01 3.0664886e-09 6.3846394e-04]]\n",
            "7\n"
          ]
        }
      ]
    }
  ],
  "metadata": {
    "accelerator": "GPU",
    "colab": {
      "collapsed_sections": [
        "Pa2_uq889QCz"
      ],
      "provenance": [],
      "include_colab_link": true
    },
    "kernelspec": {
      "display_name": "Python 3 (ipykernel)",
      "language": "python",
      "name": "python3"
    },
    "language_info": {
      "codemirror_mode": {
        "name": "ipython",
        "version": 3
      },
      "file_extension": ".py",
      "mimetype": "text/x-python",
      "name": "python",
      "nbconvert_exporter": "python",
      "pygments_lexer": "ipython3",
      "version": "3.9.7"
    }
  },
  "nbformat": 4,
  "nbformat_minor": 0
}